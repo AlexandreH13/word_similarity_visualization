{
 "metadata": {
  "language_info": {
   "codemirror_mode": {
    "name": "ipython",
    "version": 3
   },
   "file_extension": ".py",
   "mimetype": "text/x-python",
   "name": "python",
   "nbconvert_exporter": "python",
   "pygments_lexer": "ipython3",
   "version": "3.7.5-final"
  },
  "orig_nbformat": 2,
  "kernelspec": {
   "name": "python3",
   "display_name": "Python 3",
   "language": "python"
  }
 },
 "nbformat": 4,
 "nbformat_minor": 2,
 "cells": [
  {
   "cell_type": "code",
   "execution_count": 70,
   "metadata": {},
   "outputs": [],
   "source": [
    "from sklearn.metrics.pairwise import cosine_similarity\n",
    "import plotly.graph_objects as go\n",
    "from plotly.offline import plot\n",
    "import networkx as nx\n",
    "import numpy as np"
   ]
  },
  {
   "cell_type": "code",
   "execution_count": 71,
   "metadata": {},
   "outputs": [],
   "source": [
    "words = np.loadtxt('data/words.txt', dtype='str')\n",
    "vectors = np.load('data/vectors.npy')"
   ]
  },
  {
   "cell_type": "code",
   "execution_count": 72,
   "metadata": {},
   "outputs": [],
   "source": [
    "#words = words[:500]\n",
    "#vectors = vectors[:500]"
   ]
  },
  {
   "cell_type": "code",
   "execution_count": 73,
   "metadata": {},
   "outputs": [],
   "source": [
    "sims = cosine_similarity(vectors, vectors)"
   ]
  },
  {
   "cell_type": "code",
   "execution_count": 74,
   "metadata": {},
   "outputs": [],
   "source": [
    "for i in range(len(vectors)):\n",
    "    for j in range(len(vectors)):\n",
    "        if i<=j:\n",
    "            sims[i, j] = False"
   ]
  },
  {
   "cell_type": "code",
   "execution_count": 75,
   "metadata": {},
   "outputs": [],
   "source": [
    "indices = np.argwhere(sims > 0.65) ## pegamos todos onde a similaridade e maior que .65"
   ]
  },
  {
   "cell_type": "code",
   "execution_count": 76,
   "metadata": {},
   "outputs": [],
   "source": [
    "G = nx.Graph()\n",
    "\n",
    "for index in indices:\n",
    "    G.add_edge(words[index[0]], words[index[1]], \n",
    "               weight=sims[index[0], index[1]]) ## Cria um vertice, caso nao exista"
   ]
  },
  {
   "cell_type": "code",
   "execution_count": 77,
   "metadata": {},
   "outputs": [],
   "source": [
    "weight_values = nx.get_edge_attributes(G, 'weight')"
   ]
  },
  {
   "cell_type": "code",
   "execution_count": 78,
   "metadata": {},
   "outputs": [],
   "source": [
    "positions = nx.spring_layout(G)"
   ]
  },
  {
   "cell_type": "code",
   "execution_count": 79,
   "metadata": {},
   "outputs": [],
   "source": [
    "nx.set_node_attributes(G, name='position', values=positions)"
   ]
  },
  {
   "cell_type": "code",
   "execution_count": 80,
   "metadata": {},
   "outputs": [],
   "source": [
    "'''\n",
    "Quando passamos palavras para buscar,\n",
    "elas apareceram representadas por circulos\n",
    "maiores no grafico\n",
    "'''\n",
    "searches = []"
   ]
  },
  {
   "cell_type": "code",
   "execution_count": 81,
   "metadata": {},
   "outputs": [],
   "source": [
    "edge_x = []\n",
    "edge_y = []\n",
    "weights = []\n",
    "ave_x, ave_y = [], []\n",
    "## Cria os vertices\n",
    "for edge in G.edges():\n",
    "    x0, y0 = G.nodes[edge[0]]['position']\n",
    "    x1, y1 = G.nodes[edge[1]]['position']\n",
    "    edge_x.append(x0)\n",
    "    edge_x.append(x1)\n",
    "    edge_x.append(None)\n",
    "    edge_y.append(y0)\n",
    "    edge_y.append(y1)\n",
    "    edge_y.append(None)\n",
    "    ave_x.append(np.mean([x0, x1]))\n",
    "    ave_y.append(np.mean([y0, y1]))\n",
    "    weights.append(f'{edge[0]}, {edge[1]}: {weight_values[(edge[0], edge[1])]}')\n",
    "\n",
    "edge_trace = go.Scatter(\n",
    "    x=edge_x, y=edge_y,\n",
    "    opacity=0.7,\n",
    "    line=dict(width=2, color='White'),\n",
    "    hoverinfo='text',\n",
    "    mode='lines')\n",
    "\n",
    "edge_trace.text = weights\n",
    "\n",
    "\n",
    "node_x = []\n",
    "node_y = []\n",
    "sizes = []\n",
    "## Cria os nos\n",
    "for node in G.nodes():\n",
    "    x, y = G.nodes[node]['position']\n",
    "    node_x.append(x)\n",
    "    node_y.append(y)\n",
    "    if node in searches:\n",
    "        sizes.append(50)\n",
    "    else:\n",
    "        sizes.append(15)\n",
    "\n",
    "node_trace = go.Scatter(\n",
    "    x=node_x, y=node_y,\n",
    "    mode='markers',\n",
    "    hoverinfo='text',\n",
    "    marker=dict(\n",
    "        showscale=True,\n",
    "        line=dict(color='White'),\n",
    "        # colorscale options\n",
    "        #'Greys' | 'YlGnBu' | 'Greens' | 'YlOrRd' | 'Bluered' | 'RdBu' |\n",
    "        #'Reds' | 'Blues' | 'Picnic' | 'Rainbow' | 'Portland' | 'Jet' |\n",
    "        #'Hot' | 'Blackbody' | 'Earth' | 'Electric' | 'Viridis' |\n",
    "        colorscale='Picnic',\n",
    "        reversescale=False,\n",
    "        color=[],\n",
    "        opacity=0.9,\n",
    "        size=sizes,\n",
    "        colorbar=dict(\n",
    "            thickness=15,\n",
    "            title='Node Connections',\n",
    "            xanchor='left',\n",
    "            titleside='right'\n",
    "        ),\n",
    "        line_width=2\n",
    "    )\n",
    ")\n",
    "\n",
    "invisible_similarity_trace = go.Scatter(\n",
    "    x=ave_x, y=ave_y,\n",
    "    mode='markers',\n",
    "    hoverinfo='text',\n",
    "    marker=dict(\n",
    "        color=[],\n",
    "        opacity=0,\n",
    "    )\n",
    ")\n",
    "\n",
    "invisible_similarity_trace.text=weights"
   ]
  },
  {
   "cell_type": "code",
   "execution_count": 82,
   "metadata": {},
   "outputs": [],
   "source": [
    "node_adjacencies = []\n",
    "node_text = []\n",
    "for node, adjacencies in enumerate(G.adjacency()):\n",
    "    node_adjacencies.append(len(adjacencies[1]))\n",
    "    node_text.append(adjacencies[0])\n",
    "\n",
    "node_trace.marker.color = node_adjacencies\n",
    "node_trace.text = node_text"
   ]
  },
  {
   "cell_type": "code",
   "execution_count": 83,
   "metadata": {},
   "outputs": [
    {
     "output_type": "execute_result",
     "data": {
      "text/plain": [
       "'temp-plot.html'"
      ]
     },
     "metadata": {},
     "execution_count": 83
    }
   ],
   "source": [
    "fig = go.Figure(\n",
    "    data=[edge_trace, node_trace, invisible_similarity_trace],\n",
    "    layout=go.Layout(\n",
    "        title='Network Graph of Word Embeddings',\n",
    "        template='plotly_dark',\n",
    "        titlefont_size=20,\n",
    "        showlegend=False,\n",
    "        hovermode='closest',\n",
    "        margin=dict(b=20,l=5,r=5,t=40),\n",
    "        annotations=[\n",
    "            dict(\n",
    "                text=\"Adapted from: <a href='https://plotly.com/ipython-notebooks/network-graphs/'> https://plotly.com/ipython-notebooks/network-graphs/</a>\",\n",
    "                showarrow=False,\n",
    "                xref=\"paper\", yref=\"paper\",\n",
    "                x=0.005, y=-0.002 ) \n",
    "        ],\n",
    "        xaxis=dict(showgrid=False, zeroline=False, showticklabels=False),\n",
    "        yaxis=dict(showgrid=False, zeroline=False, showticklabels=False)\n",
    "    )\n",
    ")\n",
    "\n",
    "plot(fig)"
   ]
  },
  {
   "cell_type": "code",
   "execution_count": null,
   "metadata": {},
   "outputs": [],
   "source": []
  }
 ]
}